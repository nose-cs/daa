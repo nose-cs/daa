{
 "cells": [
  {
   "cell_type": "code",
   "execution_count": 1,
   "metadata": {},
   "outputs": [],
   "source": [
    "import math\n",
    "import random\n",
    "import numpy as np\n",
    "import matplotlib.pyplot as plt\n",
    "from tests import get_max_degree, generate_random_graph\n",
    "from solution import smallest_dominating_set, greedy_dominating_set\n",
    "\n",
    "solutions = []\n",
    "approximations = []\n",
    "ceil_approximations = []\n",
    "log_max_degree_approximations = []\n",
    "\n",
    "n = 20\n",
    "edge_prob = 0.5\n",
    "for _ in range(250):\n",
    "    graph = generate_random_graph(n, edge_prob)\n",
    "    max_deg = get_max_degree(graph)\n",
    "    if max_deg == 0:\n",
    "        continue\n",
    "    solution = smallest_dominating_set(graph)\n",
    "    approximation = greedy_dominating_set(graph)\n",
    "    ceil_approximation = math.ceil(math.log(n) + 1) * solution\n",
    "    log_max_degree_approximation = (math.log(max_deg) + 2) * solution\n",
    "    \n",
    "    solutions.append(solution)\n",
    "    approximations.append(approximation)\n",
    "    ceil_approximations.append(ceil_approximation)\n",
    "    log_max_degree_approximations.append(log_max_degree_approximation)\n",
    "\n",
    "\n"
   ]
  },
  {
   "cell_type": "code",
   "execution_count": null,
   "metadata": {},
   "outputs": [],
   "source": [
    "# Plotting\n",
    "plt.figure(figsize=(10, 6))\n",
    "\n",
    "# Plot the solutions in blue\n",
    "plt.plot(solutions, 'bo', label='Solution')\n",
    "\n",
    "# Plot the approximations in red\n",
    "plt.plot(approximations, 'ro', label='Approximation')\n",
    "\n",
    "# Plot ceil(math.log(n) + 1) * solution in orange\n",
    "plt.plot(ceil_approximations, 'yo', label='Ceil Approximation')\n",
    "\n",
    "# Plot (math.log(max_degree) + 2) * solution in green\n",
    "plt.plot(log_max_degree_approximations, 'go', label='Log Max Degree Approximation')\n",
    "\n",
    "# Adding labels and legend\n",
    "plt.xlabel('Example Index')\n",
    "plt.ylabel('Values')\n",
    "# plt.title()\n",
    "plt.legend()\n",
    "\n",
    "# Show the plot\n",
    "plt.show()"
   ]
  },
  {
   "cell_type": "code",
   "execution_count": null,
   "metadata": {},
   "outputs": [],
   "source": [
    "\n",
    "\n",
    "# Plotting\n",
    "plt.figure(figsize=(10, 6))\n",
    "\n",
    "# Plot the solutions in blue\n",
    "plt.plot(solutions, 'b-', label='Solution')\n",
    "\n",
    "# Plot the approximations in red\n",
    "plt.plot(approximations, 'r-', label='Approximation')\n",
    "\n",
    "# Plot ceil(math.log(n) + 1) * solution in orange\n",
    "plt.plot(ceil_approximations, 'y-', label='Ceil Approximation')\n",
    "\n",
    "# Plot (math.log(max_degree) + 2) * solution in green\n",
    "plt.plot(log_max_degree_approximations, 'g-', label='Log Max Degree Approximation')\n",
    "\n",
    "# Adding labels and legend\n",
    "plt.xlabel('Example Index')\n",
    "plt.ylabel('Values')\n",
    "# plt.title('Solution and Approximations for 50 Examples')\n",
    "plt.legend()\n",
    "\n",
    "# Show the plot\n",
    "plt.show()\n"
   ]
  }
 ],
 "metadata": {
  "kernelspec": {
   "display_name": "Python 3",
   "language": "python",
   "name": "python3"
  },
  "language_info": {
   "codemirror_mode": {
    "name": "ipython",
    "version": 3
   },
   "file_extension": ".py",
   "mimetype": "text/x-python",
   "name": "python",
   "nbconvert_exporter": "python",
   "pygments_lexer": "ipython3",
   "version": "3.9.13"
  }
 },
 "nbformat": 4,
 "nbformat_minor": 2
}
