{
 "cells": [
  {
   "cell_type": "code",
   "execution_count": 1,
   "metadata": {},
   "outputs": [
    {
     "ename": "ModuleNotFoundError",
     "evalue": "No module named 'matplotlib'",
     "output_type": "error",
     "traceback": [
      "\u001b[1;31m---------------------------------------------------------------------------\u001b[0m",
      "\u001b[1;31mModuleNotFoundError\u001b[0m                       Traceback (most recent call last)",
      "Cell \u001b[1;32mIn[1], line 3\u001b[0m\n\u001b[0;32m      1\u001b[0m \u001b[38;5;28;01mimport\u001b[39;00m \u001b[38;5;21;01mmath\u001b[39;00m\n\u001b[0;32m      2\u001b[0m \u001b[38;5;28;01mimport\u001b[39;00m \u001b[38;5;21;01mnumpy\u001b[39;00m \u001b[38;5;28;01mas\u001b[39;00m \u001b[38;5;21;01mnp\u001b[39;00m\n\u001b[1;32m----> 3\u001b[0m \u001b[38;5;28;01mimport\u001b[39;00m \u001b[38;5;21;01mmatplotlib\u001b[39;00m\u001b[38;5;21;01m.\u001b[39;00m\u001b[38;5;21;01mpyplot\u001b[39;00m \u001b[38;5;28;01mas\u001b[39;00m \u001b[38;5;21;01mplt\u001b[39;00m\n\u001b[0;32m      4\u001b[0m \u001b[38;5;28;01mfrom\u001b[39;00m \u001b[38;5;21;01mtests\u001b[39;00m \u001b[38;5;28;01mimport\u001b[39;00m get_max_degree\n\u001b[0;32m      5\u001b[0m \u001b[38;5;28;01mfrom\u001b[39;00m \u001b[38;5;21;01msolution\u001b[39;00m \u001b[38;5;28;01mimport\u001b[39;00m smallest_dominating_set, greedy_dominating_set\n",
      "\u001b[1;31mModuleNotFoundError\u001b[0m: No module named 'matplotlib'"
     ]
    }
   ],
   "source": [
    "import math\n",
    "import numpy as np\n",
    "import matplotlib.pyplot as plt\n",
    "from tests import get_max_degree\n",
    "from solution import smallest_dominating_set, greedy_dominating_set\n",
    "\n",
    "# Graph representation as an adjacency list\n",
    "graph = {0: [1, 4], 1: [0, 4, 5], 2: [4], 3: [4, 5], 4: [0, 1, 2, 3, 5], 5: [1, 3, 4], 6: []}\n",
    "\n",
    "# Calculate the maximum degree of the graph\n",
    "max_deg = get_max_degree(graph)\n",
    "\n",
    "# Example solution value\n",
    "solution = smallest_dominating_set(graph)\n",
    "\n",
    "# Calculate the approximations\n",
    "n = len(graph)\n",
    "approximation = greedy_dominating_set(graph)\n",
    "ceil_approximation = math.ceil(math.log(n) + 1) * solution\n",
    "log_max_degree_approximation = (math.log(max_deg) + 2) * solution\n",
    "\n",
    "# Plotting\n",
    "plt.figure(figsize=(10, 6))\n",
    "\n",
    "# Plot the solution in blue\n",
    "plt.plot([solution], [solution], 'bo', label='Solution')\n",
    "\n",
    "# Plot the approximation in red\n",
    "plt.plot([solution], [approximation], 'ro', label='Approximation')\n",
    "\n",
    "# Plot math.ceil(math.log(n) + 1) * solution in orange\n",
    "plt.plot([solution], [ceil_approximation], 'yo', label='Ceil Approximation')\n",
    "\n",
    "# Plot (math.log(max_degree) + 2) * solution in green\n",
    "plt.plot([solution], [log_max_degree_approximation], 'go', label='Log Max Degree Approximation')\n",
    "\n",
    "# Adding labels and legend\n",
    "plt.xlabel('Solution')\n",
    "plt.ylabel('Values')\n",
    "plt.title('Solution and Approximations')\n",
    "plt.legend()\n",
    "\n",
    "# Show the plot\n",
    "plt.show()\n"
   ]
  }
 ],
 "metadata": {
  "kernelspec": {
   "display_name": "Python 3",
   "language": "python",
   "name": "python3"
  },
  "language_info": {
   "codemirror_mode": {
    "name": "ipython",
    "version": 3
   },
   "file_extension": ".py",
   "mimetype": "text/x-python",
   "name": "python",
   "nbconvert_exporter": "python",
   "pygments_lexer": "ipython3",
   "version": "3.11.5"
  }
 },
 "nbformat": 4,
 "nbformat_minor": 2
}
